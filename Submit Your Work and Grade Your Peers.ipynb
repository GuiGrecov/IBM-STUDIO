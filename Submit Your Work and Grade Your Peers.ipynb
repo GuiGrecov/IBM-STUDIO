{
 "cells": [
  {
   "cell_type": "markdown",
   "id": "60131d4f",
   "metadata": {},
   "source": [
    "# My Jupyter Notebook on IBM Watson Studio"
   ]
  },
  {
   "cell_type": "markdown",
   "id": "300300f9",
   "metadata": {},
   "source": [
    "**Guilherme Grecov**"
   ]
  },
  {
   "cell_type": "markdown",
   "id": "ccf95504",
   "metadata": {},
   "source": [
    "100% Human"
   ]
  },
  {
   "cell_type": "markdown",
   "id": "65b3c640",
   "metadata": {},
   "source": [
    "I am interesed in data science because I love solve problems with data"
   ]
  },
  {
   "cell_type": "markdown",
   "id": "c8c150ed",
   "metadata": {},
   "source": [
    "## The following code tests the Gauss formula"
   ]
  },
  {
   "cell_type": "code",
   "execution_count": 3,
   "id": "cd0b8ea1",
   "metadata": {},
   "outputs": [
    {
     "data": {
      "text/plain": [
       "True"
      ]
     },
     "execution_count": 3,
     "metadata": {},
     "output_type": "execute_result"
    }
   ],
   "source": [
    "def gauss(n):\n",
    "    return (n*(n+1))/2\n",
    "\n",
    "gauss(100) == sum(range(101))"
   ]
  },
  {
   "cell_type": "markdown",
   "id": "f27ea81d",
   "metadata": {},
   "source": [
    "* one\n",
    "* two\n",
    "* three\n",
    "* one\n",
    "* two\n",
    "* three"
   ]
  }
 ],
 "metadata": {
  "kernelspec": {
   "display_name": "Python 3",
   "language": "python",
   "name": "python3"
  },
  "language_info": {
   "codemirror_mode": {
    "name": "ipython",
    "version": 3
   },
   "file_extension": ".py",
   "mimetype": "text/x-python",
   "name": "python",
   "nbconvert_exporter": "python",
   "pygments_lexer": "ipython3",
   "version": "3.8.8"
  }
 },
 "nbformat": 4,
 "nbformat_minor": 5
}
